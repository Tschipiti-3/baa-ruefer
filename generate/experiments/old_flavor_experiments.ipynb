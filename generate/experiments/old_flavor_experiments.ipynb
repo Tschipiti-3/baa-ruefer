{
 "cells": [
  {
   "cell_type": "code",
   "execution_count": 2,
   "metadata": {},
   "outputs": [],
   "source": [
    "import openai\n",
    "import json\n",
    "\n",
    "def generate_gpt_flavor(input):\n",
    "        ## point openai library to internal endpoint\n",
    "        openai.api_key = \"1234\"\n",
    "        openai.api_base = \"http://10.180.132.23:8180/v1\"\n",
    "\n",
    "        ## specify the used model\n",
    "        messages = [\n",
    "            {   \n",
    "                \"role\": \"system\", \n",
    "                \"content\": \"You get a text from a sports journalist for live commentary. Take the text and create three outputs with different length. A short in one sentence. A middle one with 2 to 3 sentences. And a long one. Write the text with the provided flavor. And provide it as a json. No other text is allowed.\"\n",
    "            },\n",
    "            {\n",
    "                \"role\": \"user\",\n",
    "                \"content\": \"Create three outputs in different length, with the flavor humorous. Provide the output as a json. The length title is the key. Do not any other text than the json. 'Ladies and gentlemen, turning our focus to team Lazio, hailing all the way from the beautiful country of Italy. With a rich history traced back to their founding in 1900, they\\'ve been synonymous with Italy\\'s football prowess, and they\\'re here today, displaying their prowess on the pitch, sporting the proud team code \\'LAZ\\'.'}\"\n",
    "            },\n",
    "            {\n",
    "                \"role\": \"assistant\",\n",
    "                \"content\": \"{\\\"short\\\": \\\"Lazio, the Italian team with a code as lazy as LAZ, has been kicking the football around since 1900!\\\", \\\"middle\\\": \\\"Nope, it's not a lazy Sunday, we're talking about Lazio, also known as LAZ, a football team all the way from Italy. These guys have been showing off their footwork on the field for well over a century now since 1900.\\\", \\\"long\\\": \\\"Put your espresso aside and let's have a chat about team Lazio. No, they're not a bunch of lazy guys despite their code name LAZ. They are, in fact, one of Italy's most historical football teams. Born in 1900, they've been around longer than the pizza slice you're considering right now. You could say they’ve been twirling the football around their feet just about as long as Italians have been twirling spaghetti on their forks. More than a century of legacy, and they're still going strong, much like that extra shot of espresso in your coffee!\\\"}\"\n",
    "            },\n",
    "            {\n",
    "                \"role\": \"user\",\n",
    "                \"content\": f\"{input}\"\n",
    "            },\n",
    "        ]\n",
    "\n",
    "        model_name = \"TheBloke/Llama-2-13B-chat-AWQ\"\n",
    "        response = openai.ChatCompletion.create(\n",
    "            model=model_name,\n",
    "            messages=messages,\n",
    "            temperature=0,\n",
    "        )\n",
    "        return response[\"choices\"][0][\"message\"][\"content\"]\n",
    "\n",
    "team_id = 489\n",
    "flavors = ['humorous', 'sarcastic', 'serious', 'neutral', 'for the team and player', 'against the team and player', 'analytical', 'emotional', 'educational', 'upbeat and energetic']\n",
    "\n",
    "with open('output_2.json') as json_file:\n",
    "    input_json = json.load(json_file)"
   ]
  },
  {
   "cell_type": "markdown",
   "metadata": {},
   "source": [
    "#### Team Statistics"
   ]
  },
  {
   "cell_type": "code",
   "execution_count": 6,
   "metadata": {},
   "outputs": [],
   "source": [
    "team_statistics_flavor = {}\n",
    "for flavor in flavors:\n",
    "    for team_id in list(input_json.keys())[:2]:\n",
    "        for statistic in input_json[team_id]['statistics']:\n",
    "            input = f\"Create three outputs in different length, with the flavor {flavor}. Provide the output as a json. The length title is the key. {input_json[team_id]['statistics'][statistic]}\"\n",
    "            team_statistics_flavor[flavor] = json.loads(generate_gpt_flavor(input))\n",
    "            break\n",
    "        break "
   ]
  },
  {
   "cell_type": "code",
   "execution_count": 7,
   "metadata": {},
   "outputs": [
    {
     "data": {
      "text/plain": [
       "{'humorous': {'short': \"Lazio's form is as messy as a pizza topping – WWLDDWLWWDLWLWWDLWWDLWWDLWWLWWDLWWDD!\",\n",
       "  'middle': \"Lazio's recent results are as unpredictable as a box of chocolates – you never know if you'll get a win, draw, or loss! Their form is WWLDDWLWWDLWLWWDLWWDLWWDLWWLWWDLWWDD.\",\n",
       "  'long': \"Lazio's current form is like a game of roulette – sometimes you win, sometimes you draw, and sometimes you lose. Their recent fixtures have been a rollercoaster of results, with a mix of Ws, Ds, and Ls. It's anyone's guess what will happen next! Their form reads like a Shakespearean sonnet: WWLDDWLWWDLWLWWDLWWDLWWDLWWLWWDLWWDD. Will they win or lose? Only the football gods know!\"},\n",
       " 'sarcastic': {'short': \"Lazio's form? More like a rollercoaster of inconsistency! 😅 WWLDDWLWLWDWLLDWLWWDLWDWWDLWWLWWDLWWDD\",\n",
       "  'middle': \"Oh look, Lazio's form is as unpredictable as a toddler's tantrum! 😳 WWLDDWLWLWDWLLDWLWWDLWDWWDLWWLWWDLWWDD, anyone?\",\n",
       "  'long': \"Lazio's form? More like a never-ending soap opera! 🤣 One day they're on top of the world, the next they're at the bottom of the pit. WWLDDWLWLWDWLLDWLWWDLWDWWDLWWLWWDLWWDD. It's like they're trying to give us all a collective heart attack with their up-and-down performances. But hey, at least they're keeping things interesting, right?\"},\n",
       " 'serious': {'short': \"Lazio's recent form is a mixed bag of wins, draws, and losses.\",\n",
       "  'middle': \"Lazio's current run of results has been a rollercoaster of ups and downs, with a mix of wins, draws, and losses in their recent fixtures. Their form reads as WWLDDWLWWLWDWLLDWLWWDLWDWWDLWWLWWDLWWDD.\",\n",
       "  'long': \"Lazio's recent form has been a testament to the unpredictability of football, with a series of wins, draws, and losses that have left fans on the edge of their seats. Despite their inconsistency, the team has shown flashes of brilliance and determination, with a mix of impressive victories and narrow defeats. Their current form reads like a thriller, with a series of twists and turns that have kept pundits guessing. Will they continue to ride the wave of momentum, or will they succumb to the pressure of their recent run of results? Only time will tell.\"},\n",
       " 'neutral': {'short': \"Lazio's recent form is a mixed bag of wins, draws, and losses.\",\n",
       "  'middle': \"Lazio's current run of games has been a rollercoaster of results, with a mix of wins, draws, and losses. Their recent fixtures read as follows: WWLDDWLWWLWDWLLDWLWWDLWDWWDLWWLWWDLWWDD.\",\n",
       "  'long': \"Lazio's form in their recent matches has been a bit of a rollercoaster, with a mix of highs and lows. They've had some impressive wins, but also some disappointing losses and draws. Their recent fixtures have been a display of this inconsistency, with the following results: WWLDDWLWWLWDWLLDWLWWDLWDWWDLWWLWWDLWWDD. It's been a bit of a wild ride for fans of the team, but they'll be hoping for a more consistent run of form in the future.\"},\n",
       " 'for the team and player': {'short': \"Lazio's recent form is a mixed bag of wins, draws, and losses. WWLDDWLWLWDWLLDWLWWDLWDWWDLWWLWWDLWWDD\",\n",
       "  'middle': \"Lazio's current form is a rollercoaster of results, with a mix of wins, draws, and losses in their recent fixtures. They've had some impressive wins, but also some disappointing losses. It's been a bit of a wild ride for the team and their fans. WWLDDWLWLWDWLLDWLWWDLWDWWDLWWLWWDLWWDD\",\n",
       "  'long': \"Lazio's recent form has been a real nail-biter, with a seesaw of results that's left fans on the edge of their seats. One game they're dominating, the next they're struggling to keep up. It's been a bit of a rollercoaster ride for the team and their fans, with a mix of wins, draws, and losses in their recent fixtures. But hey, that's just the nature of the beautiful game, right? WWLDDWLWLWDWLLDWLWWDLWDWWDLWWLWWDLWWDD\"},\n",
       " 'against the team and player': {'short': \"Lazio's recent form is a messy mix of wins, draws, and losses. Good luck predicting their next move!\",\n",
       "  'middle': \"Lazio's recent performances have been all over the place. They've won some, drawn some, and lost some. It's anyone's guess what they'll do next. Maybe they'll surprise us with a win, or maybe they'll continue their inconsistent form. The suspense is killing us!\",\n",
       "  'long': \"Lazio's current form is a rollercoaster of ups and downs. One game they're riding high on a win, the next they're plummeting to a loss. It's like they're toying with our emotions, keeping us on the edge of our seats. We're not sure what to expect from them next, but we're hanging on for the wild ride. Maybe they'll turn it around and start a winning streak, or maybe they'll continue their maddening inconsistency. Only time will tell, but one thing's for sure - it's going to be a bumpy ride!\"},\n",
       " 'analytical': {'short': \"Lazio's recent form is a mixed bag of wins, draws, and losses.\",\n",
       "  'middle': \"Lazio's current run of fixtures has been a rollercoaster of results, with a mix of wins, draws, and losses. Their recent form reads as WWLDDWLWWLWDWLLDWLWWDLWDWWDLWWLWWDLWWDD.\",\n",
       "  'long': \"Lazio's recent performances have been a study in contrasts, with the team displaying both impressive wins and disappointing losses. Their form in recent fixtures has been a mixed bag, with a pattern of Wins, Draws, and Losses. The team's recent run of results reads as follows: WWLDDWLWWLWDWLLDWLWWDLWDWWDLWWLWWDLWWDD. This inconsistency in their performance suggests that the team is struggling to find a consistent rhythm, and their fans are left wondering what's next for the team.\"},\n",
       " 'emotional': {'short': \"Lazio's rollercoaster form has left us all emotional! 😱😢😤\",\n",
       "  'middle': \"Lazio's recent fixtures have been a whirlwind of emotions! 😍 Wins, draws, and losses have left us all feeling 🤯, but we're here for it! 💪🏼👏\",\n",
       "  'long': \"Oh, Lazio! 😍 Your recent form has been a rollercoaster of emotions! 🎢 One day we're riding high on a win, the next we're plummeting down with a loss. 😢 But that's what makes life so interesting, right? 🤔 The ups and downs, the highs and lows, it's all part of the journey. 🌟 So, let's take a deep breath, hold on tight, and enjoy the ride! 🎢💪🏼👏 After all, that's what being a Lazio fan is all about! 😎👏💕\"},\n",
       " 'educational': {'short': \"Lazio's recent form is a mix of wins, draws, and losses. Check out their recent fixtures: WWLDDWLWLWDWLLDWLWWDLWDWWDLWWLWWDLWWDD.\",\n",
       "  'middle': \"Lazio's current form is a rollercoaster of results, with a mix of wins, draws, and losses. Take a look at their recent fixtures: WWLDDWLWLWDWLLDWLWWDLWDWWDLWWLWWDLWWDD. They've had some impressive wins, but also some disappointing losses.\",\n",
       "  'long': \"Lazio's recent form has been a bit of a rollercoaster, with a mix of wins, draws, and losses. Their recent fixtures have been a display of ups and downs, showcasing their ability to adapt and respond to different situations. Take a look at their recent results: WWLDDWLWLWDWLLDWLWWDLWDWWDLWWLWWDLWWDD. They've had some impressive wins, such as their 3-1 victory against Cagliari, but also some disappointing losses, like their 2-0 defeat against Inter Milan. Despite the ups and downs, Lazio remains a strong team with a rich history and a passionate fan base.\"},\n",
       " 'upbeat and energetic': {'short': \"Lazio's recent form is a rollercoaster of wins and losses! 🎢😱 WWLDDWLWLWDWLLDWLWWDLWDWWDLWWLWWDLWWDD\",\n",
       "  'middle': \"Lazio's been on a wild ride lately! 🎢😱 They've had some amazing wins, but also some tough losses. Check out their recent form: WWLDDWLWLWDWLLDWLWWDLWDWWDLWWLWWDLWWDD\",\n",
       "  'long': \"Lazio's current form is a thrilling mix of ups and downs! 🎢😱 They've had some incredible wins, but also some heart-stopping losses. Take a look at their recent fixtures: WWLDDWLWLWDWLLDWLWWDLWDWWDLWWLWWDLWWDD. It's been a wild ride, but we can't wait to see what's next!\"}}"
      ]
     },
     "execution_count": 7,
     "metadata": {},
     "output_type": "execute_result"
    }
   ],
   "source": [
    "team_statistics_flavor"
   ]
  },
  {
   "cell_type": "markdown",
   "metadata": {},
   "source": [
    "#### Player Information"
   ]
  },
  {
   "cell_type": "code",
   "execution_count": 8,
   "metadata": {},
   "outputs": [],
   "source": [
    "player_information_flavor = {}\n",
    "for flavor in flavors:\n",
    "    for team_id in list(input_json.keys())[:2]:\n",
    "        for player_id in input_json[team_id]['players']:\n",
    "            input = f\"Create three outputs in different length, with the flavor {flavor}. Provide the output as a json. The length title is the key. {input_json[team_id]['players'][player_id]['information']['height']}\"\n",
    "            player_information_flavor[flavor] = json.loads(generate_gpt_flavor(input))\n",
    "            break\n",
    "        break"
   ]
  },
  {
   "cell_type": "code",
   "execution_count": 9,
   "metadata": {},
   "outputs": [
    {
     "data": {
      "text/plain": [
       "{'humorous': {'short': \"Lazio's newest player is a mystery height-wise, but we're sure their skills will tower over the competition! 😅\",\n",
       "  'middle': \"Height? Who needs height? Not Lazio's latest recruit, that's for sure! They'll be dribbling past opponents like they're in a game of Jenga. 😂\",\n",
       "  'long': \"Lazio's newest signing has got everyone guessing – how tall are they, really? 🤔 Maybe they're like a skyscraper on the field, or maybe they're more of a, well, let's just say 'vertically challenged' player. 😅 Either way, their skills are sure to make them a force to be reckoned with! 💪🏼👏\"},\n",
       " 'sarcastic': {'short': \"Well, at least we know this player's height... not available! 😅\",\n",
       "  'middle': \"Sure, let's talk about this player's height... oh wait, we can't! 😱 It's a mystery! 🤷\\u200d♀️\",\n",
       "  'long': \"Height, the most critical attribute for any football player... or so we thought! 😂 But no worries, we've got this player's height all figured out... wait, we don't! 🤷\\u200d♂️ Oops! 😅 So, let's just say this player is... vertically challenged? 😜 But hey, at least they can still fit in those tight football cleats! 😜\"},\n",
       " 'serious': {'short': \"Lazio's player heights are currently unavailable, but their skills on the field are anything but short!\",\n",
       "  'middle': \"While we don't have the exact heights of Lazio's players, their talent and dedication to the sport are undeniable. They've been dominating the field for over a century, and their legacy continues to grow with each passing season.\",\n",
       "  'long': \"Lazio's players may not be towering over their opponents in terms of height, but their impact on the field is anything but small. With a rich history dating back to 1900, they've been perfecting their craft for well over a century now. Despite the lack of information on their heights, their skills and determination are undeniable, and they continue to prove themselves as formidable opponents on the pitch.\"},\n",
       " 'neutral': {'short': 'Player height not available',\n",
       "  'middle': 'Unfortunately, the height details for this player are currently unavailable, making it difficult to assess their advantage on the field.',\n",
       "  'long': 'In football, height can be a critical attribute for players, giving them an edge over their opponents. However, for this particular player, their height details are not available, leaving us in the dark about their potential advantages on the field. This lack of information can make it challenging to fully evaluate their abilities and potential impact on the game.'},\n",
       " 'for the team and player': {'short': \"Meet the towering figure of Lazio's midfield, the enigmatic Marco Parolo, standing at an impressive height of... well, we'll just have to use our imagination!\",\n",
       "  'middle': \"Lazio's Marco Parolo is a force to be reckoned with on the pitch, clocking in at an impressive... um, let's just say he's got some serious leg room up there!\",\n",
       "  'long': \"Ladies and gentlemen, feast your eyes on the majestic Marco Parolo, the heartbeat of Lazio's midfield. This towering figure stands at an awe-inspiring... okay, we'll just admit it, we don't have his exact height measurements, but let's just say he's got some serious vertical real estate going on! Despite the lack of official stats, one thing's for sure - Parolo's got the heights of a giant on the pitch, and he's using it to his advantage to dominate the game!\"},\n",
       " 'against the team and player': {'short': \"Lazio's player, [Name], is a towering presence on the field, but we can't tell you how tall he is... yet! 😢\",\n",
       "  'middle': \"Oh no! We can't find the height details for Lazio's [Name]! 🤔 Maybe he's trying to keep it a secret, or maybe it's just too darn hard to measure! 😅 Either way, he's still a force to be reckoned with on the field! 💪\",\n",
       "  'long': \"What's a football player without their height, am I right? 🤷\\u200d♂️ Well, Lazio's [Name] is certainly giving us a mystery to solve! 🕵️\\u200d♀️ We can't seem to find his height details anywhere! 🔍 Maybe he's trying to keep it a secret, or maybe it's just too darn hard to measure! 😅 But hey, being tall isn't everything, right? 😜 He's still got skills, and we're sure he'll be a game-changer on the field! 💪 So, let's keep an eye out for this enigmatic player and see how he fares in the game! 👀🏆\"},\n",
       " 'analytical': {'short': \"Lazio's player heights are currently unavailable, but their skills on the field are anything but short!\",\n",
       "  'middle': \"While we don't have the exact heights of Lazio's players, their performance on the field is anything but lacking. With a rich history dating back to 1900, they've been dominating the football scene for over a century now.\",\n",
       "  'long': \"Lazio's player heights may be a mystery, but their talent on the field is anything but. As one of Italy's most historical football teams, they've been kicking the ball around since 1900, and their legacy only continues to grow. While we can't measure their height in inches or centimeters, we can measure their impact on the game - and it's anything but short.\"},\n",
       " 'emotional': {'short': \"Tall tale? Meet the player who's height is a mystery, but their skills on the field are anything but! 😢\",\n",
       "  'middle': \"Height? Who needs height? This player's got heart and talent oozing out of their pores! 💪🏼\",\n",
       "  'long': \"Oh, the agony of not knowing their height! But let's not focus on that, shall we? This player's got the moves, the passion, and the drive to make any team proud! 💥🏆\"},\n",
       " 'educational': {'short': \"Get ready to learn about the height of a football player! Unfortunately, we don't have the details yet, but stay tuned for more updates!\",\n",
       "  'middle': \"In football, height is a critical attribute for any player. Unfortunately, we don't have the height details for this player yet, but we'll keep you updated as soon as we have more information!\",\n",
       "  'long': \"Height is a vital aspect of a football player's game. Unfortunately, we can't provide you with the height details of this player just yet, but we'll be sure to keep you in the loop as soon as we have more information. Whether you're a coach, a player, or just a fan, understanding the height of your opponents or teammates can give you a crucial edge in the game. So, keep an eye out for updates and get ready to learn more about the height of this football player!\"},\n",
       " 'upbeat and energetic': {'short': \"Get ready to meet the football star who's got game for days! 🏈💪 Unfortunately, their height is a mystery, but we're sure they'll still score big! 💥\",\n",
       "  'middle': \"Hey there, football fans! 👋 We've got a player here who's got the skills to pay the bills! 💰🏆 But, we can't reveal their height just yet, it's a secret! 🤫👀 Keep an eye out for their moves on the field, though - they're sure to be a game-changer! 💥🔥\",\n",
       "  'long': \"Whooo-hooo! 🎉 We've got a football sensation here, folks! 🤩 This player's got the moves, the talent, and the drive to succeed! 💪🏆 But, we can't give away all their secrets just yet - we'll have to wait and see how tall they are! 🤔👀 In the meantime, get ready to be impressed by their skills on the field! 💥🔥🏆\"}}"
      ]
     },
     "execution_count": 9,
     "metadata": {},
     "output_type": "execute_result"
    }
   ],
   "source": [
    "player_information_flavor"
   ]
  },
  {
   "cell_type": "markdown",
   "metadata": {},
   "source": []
  },
  {
   "cell_type": "code",
   "execution_count": null,
   "metadata": {},
   "outputs": [],
   "source": []
  }
 ],
 "metadata": {
  "kernelspec": {
   "display_name": ".venv",
   "language": "python",
   "name": "python3"
  },
  "language_info": {
   "codemirror_mode": {
    "name": "ipython",
    "version": 3
   },
   "file_extension": ".py",
   "mimetype": "text/x-python",
   "name": "python",
   "nbconvert_exporter": "python",
   "pygments_lexer": "ipython3",
   "version": "3.9.6"
  }
 },
 "nbformat": 4,
 "nbformat_minor": 2
}
